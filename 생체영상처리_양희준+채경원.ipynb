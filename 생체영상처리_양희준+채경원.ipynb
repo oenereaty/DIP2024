{
  "nbformat": 4,
  "nbformat_minor": 0,
  "metadata": {
    "colab": {
      "provenance": [],
      "gpuType": "T4"
    },
    "kernelspec": {
      "name": "python3",
      "display_name": "Python 3"
    },
    "language_info": {
      "name": "python"
    },
    "accelerator": "GPU"
  },
  "cells": [
    {
      "cell_type": "markdown",
      "source": [
        "# Imports"
      ],
      "metadata": {
        "id": "F8hEAXg8uTzs"
      }
    },
    {
      "cell_type": "code",
      "execution_count": 1,
      "metadata": {
        "colab": {
          "base_uri": "https://localhost:8080/"
        },
        "id": "OgEDPDmdaUCr",
        "outputId": "beb2ab3d-c52d-48e5-a40f-24d019958d74"
      },
      "outputs": [
        {
          "output_type": "stream",
          "name": "stdout",
          "text": [
            "Requirement already satisfied: transformers in /usr/local/lib/python3.10/dist-packages (4.46.3)\n",
            "Requirement already satisfied: filelock in /usr/local/lib/python3.10/dist-packages (from transformers) (3.16.1)\n",
            "Requirement already satisfied: huggingface-hub<1.0,>=0.23.2 in /usr/local/lib/python3.10/dist-packages (from transformers) (0.26.3)\n",
            "Requirement already satisfied: numpy>=1.17 in /usr/local/lib/python3.10/dist-packages (from transformers) (1.26.4)\n",
            "Requirement already satisfied: packaging>=20.0 in /usr/local/lib/python3.10/dist-packages (from transformers) (24.2)\n",
            "Requirement already satisfied: pyyaml>=5.1 in /usr/local/lib/python3.10/dist-packages (from transformers) (6.0.2)\n",
            "Requirement already satisfied: regex!=2019.12.17 in /usr/local/lib/python3.10/dist-packages (from transformers) (2024.9.11)\n",
            "Requirement already satisfied: requests in /usr/local/lib/python3.10/dist-packages (from transformers) (2.32.3)\n",
            "Requirement already satisfied: tokenizers<0.21,>=0.20 in /usr/local/lib/python3.10/dist-packages (from transformers) (0.20.3)\n",
            "Requirement already satisfied: safetensors>=0.4.1 in /usr/local/lib/python3.10/dist-packages (from transformers) (0.4.5)\n",
            "Requirement already satisfied: tqdm>=4.27 in /usr/local/lib/python3.10/dist-packages (from transformers) (4.66.6)\n",
            "Requirement already satisfied: fsspec>=2023.5.0 in /usr/local/lib/python3.10/dist-packages (from huggingface-hub<1.0,>=0.23.2->transformers) (2024.10.0)\n",
            "Requirement already satisfied: typing-extensions>=3.7.4.3 in /usr/local/lib/python3.10/dist-packages (from huggingface-hub<1.0,>=0.23.2->transformers) (4.12.2)\n",
            "Requirement already satisfied: charset-normalizer<4,>=2 in /usr/local/lib/python3.10/dist-packages (from requests->transformers) (3.4.0)\n",
            "Requirement already satisfied: idna<4,>=2.5 in /usr/local/lib/python3.10/dist-packages (from requests->transformers) (3.10)\n",
            "Requirement already satisfied: urllib3<3,>=1.21.1 in /usr/local/lib/python3.10/dist-packages (from requests->transformers) (2.2.3)\n",
            "Requirement already satisfied: certifi>=2017.4.17 in /usr/local/lib/python3.10/dist-packages (from requests->transformers) (2024.8.30)\n"
          ]
        }
      ],
      "source": [
        "pip install transformers"
      ]
    },
    {
      "cell_type": "code",
      "source": [
        "import zipfile\n",
        "from PIL import Image\n",
        "import torch\n",
        "import requests\n",
        "from io import BytesIO\n",
        "from transformers import AutoModelForImageClassification, AutoFeatureExtractor"
      ],
      "metadata": {
        "id": "hetAUC8Ns1d6"
      },
      "execution_count": 11,
      "outputs": []
    },
    {
      "cell_type": "markdown",
      "source": [
        "# 파일 로드"
      ],
      "metadata": {
        "id": "GhjSuHO5uW4v"
      }
    },
    {
      "cell_type": "markdown",
      "source": [
        "**하단의 코드를 실행하기 전에 먼저 디렉토리에 `model_directory.zip` 파일을 업로드해 주세요!**"
      ],
      "metadata": {
        "id": "NwrhGeEZx_8z"
      }
    },
    {
      "cell_type": "markdown",
      "source": [
        "![step1](https://github.com/oenereaty/DIP2024/blob/main/step1.png?raw=true)"
      ],
      "metadata": {
        "id": "4nUb6BHpz_S3"
      }
    },
    {
      "cell_type": "markdown",
      "source": [
        "`파일` 아이콘 클릭 → `세션 저장소에 업로드` 아이콘 클릭"
      ],
      "metadata": {
        "id": "ZMPp5E0G0Ht5"
      }
    },
    {
      "cell_type": "markdown",
      "source": [
        "![step2](https://github.com/oenereaty/DIP2024/blob/main/step2.png?raw=true)"
      ],
      "metadata": {
        "id": "Dy1HY1YM0XlN"
      }
    },
    {
      "cell_type": "markdown",
      "source": [
        "미리 다운로드 받은 `model_directory.zip` 파일을 업로드 시 사진 같은 모습으로 나타납니다.\n",
        "\n",
        "업로드 되었다면 하단의 코드를 실행해 주세요!"
      ],
      "metadata": {
        "id": "t_9Aewae0d1C"
      }
    },
    {
      "cell_type": "code",
      "source": [
        "with zipfile.ZipFile('model_directory.zip', 'r') as z:\n",
        "    z.extractall('./model_directory')"
      ],
      "metadata": {
        "id": "cwD8E0zeswH7"
      },
      "execution_count": 7,
      "outputs": []
    },
    {
      "cell_type": "code",
      "source": [
        "# 모델 로드\n",
        "model_directory = \"./model_directory\"\n",
        "model = AutoModelForImageClassification.from_pretrained(model_directory)\n",
        "image_processor = AutoFeatureExtractor.from_pretrained(model_directory)\n",
        "\n",
        "print(\"모델과 프로세서가 성공적으로 로드되었습니다!\")\n"
      ],
      "metadata": {
        "colab": {
          "base_uri": "https://localhost:8080/"
        },
        "id": "VZPLd9NOsb4o",
        "outputId": "d4becbec-df25-4c50-d256-bbd7d293351e"
      },
      "execution_count": 8,
      "outputs": [
        {
          "output_type": "stream",
          "name": "stdout",
          "text": [
            "모델과 프로세서가 성공적으로 로드되었습니다!\n"
          ]
        },
        {
          "output_type": "stream",
          "name": "stderr",
          "text": [
            "/usr/local/lib/python3.10/dist-packages/transformers/models/vit/feature_extraction_vit.py:28: FutureWarning: The class ViTFeatureExtractor is deprecated and will be removed in version 5 of Transformers. Please use ViTImageProcessor instead.\n",
            "  warnings.warn(\n"
          ]
        }
      ]
    },
    {
      "cell_type": "markdown",
      "source": [
        "# 모델 가동"
      ],
      "metadata": {
        "id": "CnBvrO_FxzJ0"
      }
    },
    {
      "cell_type": "code",
      "source": [
        "from PIL import Image\n",
        "import torch\n",
        "import requests\n",
        "from io import BytesIO\n",
        "from transformers import AutoModelForImageClassification, AutoFeatureExtractor\n",
        "\n",
        "# 모델 로드\n",
        "model = AutoModelForImageClassification.from_pretrained(\"model_directory\")\n",
        "image_processor = AutoFeatureExtractor.from_pretrained(\"model_directory\")\n",
        "\n",
        "# 라벨과 클래스 이름 및 해결책 매핑\n",
        "label_map = {\n",
        "    0: {\n",
        "        \"name\": \"Apple___Apple_scab\",\n",
        "        \"solution\": \"Apple scab은 주로 과도한 습기로 인해 발생합니다. 감염된 잎과 과일을 제거하고 살균제를 사용하세요.\"\n",
        "    },\n",
        "    1: {\n",
        "        \"name\": \"Apple___Black_rot\",\n",
        "        \"solution\": \"Black rot은 감염된 가지와 과일을 제거해야 합니다. 또한, 구리 기반 살균제를 사용해 예방하세요.\"\n",
        "    },\n",
        "    2: {\n",
        "        \"name\": \"Apple___Cedar_apple_rust\",\n",
        "        \"solution\": \"Cedar apple rust는 인근의 주니퍼 나무를 제거하거나, 방제제를 사용해 증상을 완화할 수 있습니다.\"\n",
        "    },\n",
        "    3: {\n",
        "        \"name\": \"Apple___healthy\",\n",
        "        \"solution\": \"사과 나무는 건강합니다. 추가 조치는 필요하지 않습니다!\"\n",
        "    }\n",
        "}\n",
        "\n",
        "# 외부 이미지 URL 처리 함수\n",
        "def process_image_from_url(image_url):\n",
        "    try:\n",
        "        # 이미지 다운로드\n",
        "        response = requests.get(image_url)\n",
        "        if response.status_code != 200:\n",
        "            raise Exception(\"이미지를 가져올 수 없습니다. URL을 확인하세요.\")\n",
        "\n",
        "        # 이미지 열기\n",
        "        image = Image.open(BytesIO(response.content))\n",
        "\n",
        "        # 이미지 채널 변환 (RGB로 강제 변환)\n",
        "        if image.mode != \"RGB\":\n",
        "            image = image.convert(\"RGB\")\n",
        "\n",
        "        # 모델 입력 준비\n",
        "        inputs = image_processor(images=image, return_tensors=\"pt\")\n",
        "\n",
        "        # 모델 예측\n",
        "        outputs = model(**inputs)\n",
        "        predictions = torch.argmax(outputs.logits, dim=-1).item()\n",
        "\n",
        "        # 라벨 매핑\n",
        "        prediction_info = label_map.get(predictions, {\"name\": \"Unknown\", \"solution\": \"해결책을 찾을 수 없습니다.\"})\n",
        "\n",
        "        # 결과 출력\n",
        "        print(f\"예측 결과: {prediction_info['name']}\")\n",
        "        print(f\"해결책: {prediction_info['solution']}\")\n",
        "    except Exception as e:\n",
        "        print(f\"이미지 처리 중 오류 발생: {e}\")\n",
        "\n",
        "# 이미지 넣기\n",
        "image_url = \"https://as2.ftcdn.net/v2/jpg/04/98/55/83/1000_F_498558318_eIxJnmctX9YuAPhmsPAvTZHnvZy0qvc8.jpg\"\n",
        "process_image_from_url(image_url)\n"
      ],
      "metadata": {
        "colab": {
          "base_uri": "https://localhost:8080/"
        },
        "id": "TrsnNO5qsfGE",
        "outputId": "38776993-2759-4462-9ddc-2f6cc3b3c219"
      },
      "execution_count": 18,
      "outputs": [
        {
          "output_type": "stream",
          "name": "stdout",
          "text": [
            "예측 결과: Apple___healthy\n",
            "해결책: 사과 나무는 건강합니다. 추가 조치는 필요하지 않습니다!\n"
          ]
        }
      ]
    },
    {
      "cell_type": "code",
      "source": [],
      "metadata": {
        "id": "ZstG71Alut1g"
      },
      "execution_count": null,
      "outputs": []
    }
  ]
}